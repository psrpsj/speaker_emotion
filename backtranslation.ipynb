{
 "cells": [
  {
   "cell_type": "code",
   "execution_count": 1,
   "metadata": {},
   "outputs": [],
   "source": [
    "import pandas as pd\n",
    "from selenium import webdriver\n",
    "import time\n",
    "from tqdm import tqdm"
   ]
  },
  {
   "cell_type": "code",
   "execution_count": 2,
   "metadata": {},
   "outputs": [],
   "source": [
    "train = pd.read_csv(\"./data/train.csv\")"
   ]
  },
  {
   "cell_type": "code",
   "execution_count": 3,
   "metadata": {},
   "outputs": [
    {
     "name": "stderr",
     "output_type": "stream",
     "text": [
      "/usr/local/lib/python3.6/dist-packages/ipykernel_launcher.py:5: DeprecationWarning: use options instead of chrome_options\n",
      "  \"\"\"\n"
     ]
    }
   ],
   "source": [
    "options = webdriver.ChromeOptions()\n",
    "options.add_argument('--headless')\n",
    "options.add_argument('--no-sandbox')\n",
    "options.add_argument('--disable-dev-shm-usage')\n",
    "driver = webdriver.Chrome(chrome_options=options)"
   ]
  },
  {
   "cell_type": "code",
   "execution_count": 4,
   "metadata": {},
   "outputs": [],
   "source": [
    "def trans(t, driver):\n",
    "    new_text = []\n",
    "    lang = [\"ko\", 'ja&hn=0']\n",
    "    for l in lang:\n",
    "        backtrans = \"\"\n",
    "        try:\n",
    "            driver.get('https://papago.naver.com/?sk=en&tk='+l+'&st='+t)\n",
    "            time.sleep(2.5)\n",
    "            backtrans = driver.find_element_by_xpath('//*[@id=\"txtTarget\"]').text\n",
    "        except:\n",
    "            pass\n",
    "        if backtrans != \"\":\n",
    "            return_sen = \"\"\n",
    "            try:\n",
    "                driver.get('https://papago.naver.com/?sk='+l+'&tk=en&st='+backtrans)\n",
    "                time.sleep(2.5)\n",
    "                return_sen = driver.find_element_by_xpath('//*[@id=\"txtTarget\"]').text\n",
    "            except:\n",
    "                pass\n",
    "            if return_sen != \"\":\n",
    "                new_text.append(return_sen)\n",
    "    return list(set(new_text))\n"
   ]
  },
  {
   "cell_type": "code",
   "execution_count": 5,
   "metadata": {},
   "outputs": [],
   "source": [
    "def backtranslation(driver):\n",
    "    train = pd.read_csv(\"./data/train.csv\")\n",
    "\n",
    "    aug_label = []\n",
    "    val = train[\"Target\"].values.tolist()\n",
    "    val = list(set(val))\n",
    "\n",
    "    for v in val:\n",
    "        if len(train[train[\"Target\"] == v]) < 1300:\n",
    "            aug_label.append(v)\n",
    "\n",
    "    aug_data = pd.DataFrame()\n",
    "    for a in tqdm(aug_label):\n",
    "        aug_data = aug_data.append(train[train[\"Target\"] == a])\n",
    "    \n",
    "    auged_data = pd.DataFrame()\n",
    "    for idx in tqdm(range(len(aug_data))):\n",
    "        original = aug_data.iloc[idx]\n",
    "        new_text = trans(original[\"Utterance\"], driver)\n",
    "        for n in new_text:\n",
    "            if original[\"Utterance\"] != n:\n",
    "                add = pd.DataFrame([{\n",
    "                    \"ID\" : original[\"ID\"],\n",
    "                    \"Utterance\" : n,\n",
    "                    \"Speaker\" : original[\"Speaker\"],\n",
    "                    \"Dialogue_ID\" : original[\"Dialogue_ID\"],\n",
    "                    \"Target\": original[\"Target\"]\n",
    "                }])\n",
    "                auged_data = auged_data.append(add)\n",
    "    train = train.append(auged_data)\n",
    "    train.to_csv(\"./data/train_backtrans.csv\")\n"
   ]
  },
  {
   "cell_type": "code",
   "execution_count": 6,
   "metadata": {},
   "outputs": [
    {
     "name": "stderr",
     "output_type": "stream",
     "text": [
      "100%|██████████| 5/5 [00:00<00:00, 185.48it/s]\n",
      "100%|██████████| 3536/3536 [10:26:42<00:00, 10.63s/it] \n"
     ]
    }
   ],
   "source": [
    "backtranslation(driver)"
   ]
  }
 ],
 "metadata": {
  "kernelspec": {
   "display_name": "Python 3.6.9 64-bit",
   "language": "python",
   "name": "python3"
  },
  "language_info": {
   "codemirror_mode": {
    "name": "ipython",
    "version": 3
   },
   "file_extension": ".py",
   "mimetype": "text/x-python",
   "name": "python",
   "nbconvert_exporter": "python",
   "pygments_lexer": "ipython3",
   "version": "3.9.6 (default, Oct 18 2022, 12:41:40) \n[Clang 14.0.0 (clang-1400.0.29.202)]"
  },
  "orig_nbformat": 4,
  "vscode": {
   "interpreter": {
    "hash": "31f2aee4e71d21fbe5cf8b01ff0e069b9275f58929596ceb00d14d90e3e16cd6"
   }
  }
 },
 "nbformat": 4,
 "nbformat_minor": 2
}
